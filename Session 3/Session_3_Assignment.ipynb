{
  "cells": [
    {
      "cell_type": "markdown",
      "id": "f4552012-e0e9-40af-8801-69d83733d433",
      "metadata": {
        "editable": true,
        "id": "f4552012-e0e9-40af-8801-69d83733d433",
        "tags": []
      },
      "source": [
        "---"
      ]
    },
    {
      "cell_type": "markdown",
      "id": "42f8be9a-cc71-4a58-97ac-1a54219a2d72",
      "metadata": {
        "editable": true,
        "id": "42f8be9a-cc71-4a58-97ac-1a54219a2d72",
        "tags": []
      },
      "source": [
        "## Object Oriented programming\n",
        "### Hands on\n",
        "\n",
        "Let's design a course registration system, where the requirements will be:\n",
        "\n",
        "1. Create a **Course** class, where each course has a name, a description and a list of enrolled students. You'll need to implement the next methods:\n",
        "    - Add a student to the course.\n",
        "    - Remove a student from the course.\n",
        "    - Show all students in the course."
      ]
    },
    {
      "cell_type": "code",
      "execution_count": 32,
      "id": "e5430dcf-a01a-4ea1-aff8-5bad4531ab1e",
      "metadata": {
        "editable": true,
        "id": "e5430dcf-a01a-4ea1-aff8-5bad4531ab1e",
        "tags": []
      },
      "outputs": [],
      "source": [
        "class Course:\n",
        "    def __init__(self, name, course): #constructor\n",
        "        self.name = name #attribute\n",
        "        self.course = course #attribute\n",
        "        self.stud_list = []\n",
        "\n",
        "    def add_student(self, student): #Add student to course\n",
        "        self.stud_list.append(student)\n",
        "        print(f\"{student} has been added to {self.name}.\")\n",
        "\n",
        "    def remove_student(self, student): #Remove student from course\n",
        "        self.stud_list.remove(student)\n",
        "        print(f\"{student} has been removed from {self.name}.\")\n",
        "\n",
        "    def describe(self): #Show all students in course \n",
        "        print(f\"The list of students in the course are: {self.stud_list}\")\n",
        "\n",
        "\n",
        "\n"
      ]
    },
    {
      "cell_type": "code",
      "execution_count": 33,
      "id": "be3c2e04",
      "metadata": {},
      "outputs": [
        {
          "name": "stdout",
          "output_type": "stream",
          "text": [
            "Jozef has been added to Cloud Computing.\n",
            "Priyanka has been added to Cloud Computing.\n",
            "Enric has been added to Cloud Computing.\n"
          ]
        }
      ],
      "source": [
        "#Adding Students to the course\n",
        "Analytics_Course = Course(\"Cloud Computing\", \"Business Analytics\")\n",
        "Analytics_Course.add_student(\"Jozef\")\n",
        "Analytics_Course.add_student(\"Priyanka\")\n",
        "Analytics_Course.add_student(\"Enric\")"
      ]
    },
    {
      "cell_type": "code",
      "execution_count": 34,
      "id": "2b8bb012",
      "metadata": {},
      "outputs": [
        {
          "name": "stdout",
          "output_type": "stream",
          "text": [
            "Priyanka has been removed from Cloud Computing.\n",
            "The list of students in the course are: ['Jozef', 'Enric']\n"
          ]
        }
      ],
      "source": [
        "#Removing students from the course\n",
        "Analytics_Course.remove_student(\"Priyanka\")\n",
        "\n",
        "#Displaying the students enrolled \n",
        "Analytics_Course.describe()"
      ]
    },
    {
      "cell_type": "markdown",
      "id": "16cc578c-9fe3-4478-81da-3071e3adb318",
      "metadata": {
        "editable": true,
        "id": "16cc578c-9fe3-4478-81da-3071e3adb318",
        "tags": []
      },
      "source": [
        "## Object Oriented programming\n",
        "### Hands on\n",
        "\n",
        "2. Create a **Student** class, where each student has a name, ID number, address and a list of enrolled courses with the following methods:\n",
        "    - Enroll in a course.\n",
        "    - Drop a course.\n",
        "    - Show all registered student courses."
      ]
    },
    {
      "cell_type": "code",
      "execution_count": 45,
      "id": "fe4cce31-1ddf-4847-bc8d-924dc3e0dfe1",
      "metadata": {
        "editable": true,
        "id": "fe4cce31-1ddf-4847-bc8d-924dc3e0dfe1",
        "tags": []
      },
      "outputs": [],
      "source": [
        "# creating a new class names Students\n",
        "class Student:\n",
        "    def __init__(self, name, student_id, address=None, courses=[]):\n",
        "        self.name = name\n",
        "        self.student_id = student_id\n",
        "        self._address = address\n",
        "        self.courses = []\n",
        "\n",
        "    def enroll(self, course): #definition for enrolling students\n",
        "        if course not in self.courses:\n",
        "           self.courses.append(course)\n",
        "           print(f\"{self.name} is enrolled in {course.name}.\")\n",
        "\n",
        "    def drop(self, course):  #Definition for dropping from courses enrolled\n",
        "        if course in self.courses:\n",
        "           self.courses.remove(course)\n",
        "           print(f\"{self.name} has dropped {course.name}.\")\n",
        "\n",
        "    def get_address(self): #calling address if needed\n",
        "        return self._address\n",
        "\n",
        "    def set_address(self, address): # Assigning address to student\n",
        "        address = ''.join(filter(self._remove_special_characters, address))\n",
        "        self._address = address\n",
        "\n",
        "    def _remove_special_characters(self, character): # Private method\n",
        "        if character.isalnum() or character == ' ' or character == '-':\n",
        "            return True\n",
        "        else:\n",
        "            return False\n",
        "\n",
        "\n",
        "\n",
        "    def describe(self):  #Printing the list of courses\n",
        "        if len(self.courses) == 0:\n",
        "            print(f\"{self.name} is not enrolled in any courses.\")\n",
        "        else: \n",
        "            print(f\"{self.name} has enrolled in the following courses: \" + \", \".join([i.name for i in self.courses]))\n",
        "\n"
      ]
    },
    {
      "cell_type": "code",
      "execution_count": 41,
      "id": "636e7367",
      "metadata": {},
      "outputs": [],
      "source": [
        "#creating objects with student name and ID number\n",
        "john = Student(\"John\", 4122)\n",
        "jack = Student(\"Jack\", 4611)\n",
        "randy = Student(\"Randy\", 4100)\n",
        "carlota = Student(\"Carlota\", 4898)"
      ]
    },
    {
      "cell_type": "code",
      "execution_count": 46,
      "id": "e6918815",
      "metadata": {},
      "outputs": [
        {
          "name": "stdout",
          "output_type": "stream",
          "text": [
            "John is enrolled in Python.\n",
            "John is enrolled in Society.\n",
            "John has enrolled in: Python, Society\n"
          ]
        }
      ],
      "source": [
        "#Calling Course class to add more subjects\n",
        "Python_Course = Course(\"Python\", \"Business Analytics\")\n",
        "Society_Course = Course(\"Society\", \"Business Analytics\")\n",
        "\n",
        "\n",
        "#enroll john into courses\n",
        "john.enroll(Python_Course)\n",
        "john.enroll(Society_Course)\n",
        "\n",
        "#show John's course\n",
        "john.describe()"
      ]
    },
    {
      "cell_type": "code",
      "execution_count": 51,
      "id": "8fda3dba",
      "metadata": {},
      "outputs": [
        {
          "name": "stdout",
          "output_type": "stream",
          "text": [
            "Randy has enrolled in: Python, Cloud Computing, Society\n",
            "Randy has dropped Society.\n",
            "Randy has enrolled in: Python, Cloud Computing\n"
          ]
        }
      ],
      "source": [
        "#enroll randy into courses\n",
        "randy.enroll(Python_Course)\n",
        "randy.enroll(Analytics_Course)\n",
        "randy.enroll(Society_Course)\n",
        "\n",
        "#display courses of randy\n",
        "randy.describe()\n",
        "\n",
        "#Dropping a subject\n",
        "randy.drop(Society_Course)\n",
        "\n",
        "#show John's courses again\n",
        "randy.describe()"
      ]
    },
    {
      "cell_type": "markdown",
      "id": "5c54b2fe-691f-4520-b8d6-2515ba92b808",
      "metadata": {
        "editable": true,
        "id": "5c54b2fe-691f-4520-b8d6-2515ba92b808",
        "tags": []
      },
      "source": [
        "## Object Oriented programming\n",
        "### Hands on\n",
        "\n",
        "3. Create a central class that manages courses and students, **Registration** class, where you have a list of students and a list of courses, and methods:\n",
        "    - Enroll in a course.\n",
        "    - Drop a course.\n",
        "    - Show all the enrolled courses.\n",
        "    - Show all the students."
      ]
    },
    {
      "cell_type": "code",
      "execution_count": 53,
      "id": "863f30c7-3cf8-4ac9-8599-e7df8e0d483c",
      "metadata": {
        "editable": true,
        "id": "863f30c7-3cf8-4ac9-8599-e7df8e0d483c",
        "tags": []
      },
      "outputs": [],
      "source": [
        "\n",
        "# new class for office database created\n",
        "class Registrar:\n",
        "    def __init__(self):\n",
        "        self.student = []\n",
        "        self.courses = []\n",
        "   \n",
        "    def add_student(self, student):  #definition to add students\n",
        "        self.student.append(student)\n",
        "        print(f\"{student.name} is added to the database\")\n",
        "\n",
        "    def remove_student(self, student): #definition to remove students\n",
        "        if student in self.student:\n",
        "            self.student.remove(student)\n",
        "            print(f\"{student.name} removed from database\")\n",
        "    \n",
        "    def add_course(self, course): #Adding courses to courses list\n",
        "        self.courses.append(course)\n",
        "        print(f\"The {course.name} course is added.\")\n",
        "\n",
        "    def drop_course(self, course): #Removing courses from courses list\n",
        "        if course in self.courses:\n",
        "            self.courses.remove(course)\n",
        "            print(f\"The {course.name} course has been dropped.\")\n",
        "    \n",
        "    def describe_course(self): \n",
        "        print(\"Course: \"+\", \".join([i.name for i in self.courses]))\n",
        "\n",
        "    def describe_student(self):\n",
        "        print(\"Student: \"+ \", \".join([i.name for i in self.student]))"
      ]
    },
    {
      "cell_type": "code",
      "execution_count": 61,
      "id": "f9903a3b",
      "metadata": {},
      "outputs": [
        {
          "name": "stdout",
          "output_type": "stream",
          "text": [
            "The Python course is added.\n",
            "The Society course is added.\n",
            "The Cloud Computing course is added.\n",
            "Course: Python, Society, Cloud Computing\n"
          ]
        }
      ],
      "source": [
        "#Adding courses and triggering the describe function\n",
        "Reg = Registrar()\n",
        "Reg.add_course(Python_Course)\n",
        "Reg.add_course(Society_Course)\n",
        "Reg.add_course(Analytics_Course)\n",
        "Reg.describe_course()"
      ]
    },
    {
      "cell_type": "code",
      "execution_count": 62,
      "id": "f11b858c",
      "metadata": {},
      "outputs": [
        {
          "name": "stdout",
          "output_type": "stream",
          "text": [
            "The Society course has been dropped.\n",
            "Course: Python, Cloud Computing\n"
          ]
        }
      ],
      "source": [
        "#Dropping a course and triggering the describe function\n",
        "Reg.drop_course(Society_Course)\n",
        "Reg.describe_course()"
      ]
    },
    {
      "cell_type": "code",
      "execution_count": 63,
      "id": "82ee6f8f",
      "metadata": {},
      "outputs": [
        {
          "name": "stdout",
          "output_type": "stream",
          "text": [
            "John is added to the database\n",
            "Jack is added to the database\n",
            "Carlota is added to the database\n",
            "Student: John, Jack, Carlota\n"
          ]
        }
      ],
      "source": [
        "#Adding Student and triggering the describe function\n",
        "Reg.add_student(john)\n",
        "Reg.add_student(jack)\n",
        "Reg.add_student(carlota)\n",
        "Reg.describe_student()"
      ]
    },
    {
      "cell_type": "code",
      "execution_count": 65,
      "id": "5a0842df",
      "metadata": {},
      "outputs": [
        {
          "name": "stdout",
          "output_type": "stream",
          "text": [
            "Jack removed from database\n",
            "Student: John, Carlota\n"
          ]
        }
      ],
      "source": [
        "#Dropping a student and displaying list again\n",
        "Reg.remove_student(jack)\n",
        "Reg.describe_student()\n"
      ]
    },
    {
      "cell_type": "markdown",
      "id": "2958b01b-3472-4c95-ae1f-771edc638749",
      "metadata": {
        "editable": true,
        "id": "2958b01b-3472-4c95-ae1f-771edc638749",
        "tags": []
      },
      "source": [
        "## Object Oriented programming\n",
        "### Howework\n",
        "\n",
        "4. Let's add grades to each student's course and create method that yields the GPA given a student name or ID."
      ]
    },
    {
      "cell_type": "code",
      "execution_count": 80,
      "id": "eab9cb8a",
      "metadata": {},
      "outputs": [],
      "source": [
        "name_id = {}  \n",
        "\n",
        "class Student_Tot(Student, Course):   #Defining new student class\n",
        "    def __init__(self, name, student_id):\n",
        "        super().__init__(name, student_id)\n",
        "        self.grades = {}\n",
        "        name_id[self.student_id] = self    \n",
        "\n",
        "    def allocate(self, course, grade): # allocating grades based on existence of course in list\n",
        "        if course in self.courses:\n",
        "            self.grades[course.name] = grade\n",
        "            print(f\"{self.name} got {grade} in {course.name}.\")\n",
        "        else:\n",
        "            print(f\"{self.name} is not in {course.name}.\")\n",
        "\n",
        "       \n",
        "\n",
        "    def GPA(self):    #Calculation of GPA by average\n",
        "        if not self.grades:\n",
        "            print(f\"{self.name}: score not available\")\n",
        "            return\n",
        "        gpa = 0.0\n",
        "        for i in self.grades:\n",
        "            gpa = gpa + self.grades[i]\n",
        "        gpa = gpa/len(self.grades)\n",
        "        print(f\"{self.name}'s GPA is \" + str(round(gpa, 2)))\n",
        "\n",
        "    def ID(student_id):     #Referencing GPA by ID \n",
        "        student_name = name_id[student_id] \n",
        "        student_name.GPA()  \n",
        "        \n"
      ]
    },
    {
      "cell_type": "code",
      "execution_count": 71,
      "id": "8cb0d85c",
      "metadata": {},
      "outputs": [],
      "source": [
        "#Student objects\n",
        "john = Student_Tot(\"John\", 4122)\n",
        "jack = Student_Tot(\"Jack\", 4611)\n",
        "randy = Student_Tot(\"Randy\", 4100)\n",
        "carlota = Student_Tot(\"Carlota\", 4898)"
      ]
    },
    {
      "cell_type": "code",
      "execution_count": 72,
      "id": "4f9c32b6",
      "metadata": {},
      "outputs": [
        {
          "name": "stdout",
          "output_type": "stream",
          "text": [
            "Randy is enrolled in Python.\n",
            "Randy is enrolled in Cloud Computing.\n",
            "Randy is enrolled in Society.\n",
            "Carlota is enrolled in Python.\n",
            "Carlota is enrolled in Cloud Computing.\n",
            "Carlota is enrolled in Society.\n",
            "John is enrolled in Python.\n",
            "John is enrolled in Cloud Computing.\n",
            "John is enrolled in Society.\n"
          ]
        }
      ],
      "source": [
        "#enroll into courses\n",
        "randy.enroll(Python_Course)\n",
        "randy.enroll(Analytics_Course)\n",
        "randy.enroll(Society_Course)\n",
        "\n",
        "carlota.enroll(Python_Course)\n",
        "carlota.enroll(Analytics_Course)\n",
        "carlota.enroll(Society_Course)\n",
        "\n",
        "john.enroll(Python_Course)\n",
        "john.enroll(Analytics_Course)\n",
        "john.enroll(Society_Course)\n",
        "\n"
      ]
    },
    {
      "cell_type": "code",
      "execution_count": 73,
      "id": "3db1238f",
      "metadata": {},
      "outputs": [
        {
          "name": "stdout",
          "output_type": "stream",
          "text": [
            "Randy got 6 in Society.\n",
            "Randy got 9 in Python.\n",
            "Randy got 6 in Cloud Computing.\n",
            "Carlota got 7 in Society.\n",
            "Carlota got 8 in Python.\n",
            "Carlota got 6 in Cloud Computing.\n",
            "John got 10 in Society.\n",
            "John got 8 in Python.\n",
            "John got 8 in Cloud Computing.\n"
          ]
        }
      ],
      "source": [
        "randy.allocate(Society_Course, 6)\n",
        "randy.allocate(Python_Course, 9)\n",
        "randy.allocate(Analytics_Course, 6)\n",
        "\n",
        "carlota.allocate(Society_Course, 7)\n",
        "carlota.allocate(Python_Course, 8)\n",
        "carlota.allocate(Analytics_Course, 6)\n",
        "\n",
        "john.allocate(Society_Course, 10)\n",
        "john.allocate(Python_Course, 8)\n",
        "john.allocate(Analytics_Course, 8)\n"
      ]
    },
    {
      "cell_type": "code",
      "execution_count": 85,
      "id": "dd670dbb",
      "metadata": {},
      "outputs": [],
      "source": [
        "carlota.ID(4898)\n",
        "randy.ID(4100)\n",
        "john.ID(4122)"
      ]
    },
    {
      "cell_type": "code",
      "execution_count": 84,
      "id": "4ed95602",
      "metadata": {},
      "outputs": [
        {
          "name": "stdout",
          "output_type": "stream",
          "text": [
            "Carlota's GPA is 7.0\n",
            "Randy's GPA is 7.0\n",
            "John's GPA is 8.67\n"
          ]
        }
      ],
      "source": [
        "carlota.GPA()\n",
        "randy.GPA()\n",
        "john.GPA()"
      ]
    },
    {
      "cell_type": "markdown",
      "id": "76c565a9-dc30-464c-980d-d522cd5246f4",
      "metadata": {
        "editable": true,
        "id": "76c565a9-dc30-464c-980d-d522cd5246f4",
        "tags": []
      },
      "source": [
        "## That's all!"
      ]
    }
  ],
  "metadata": {
    "colab": {
      "provenance": []
    },
    "kernelspec": {
      "display_name": "base",
      "language": "python",
      "name": "python3"
    },
    "language_info": {
      "codemirror_mode": {
        "name": "ipython",
        "version": 3
      },
      "file_extension": ".py",
      "mimetype": "text/x-python",
      "name": "python",
      "nbconvert_exporter": "python",
      "pygments_lexer": "ipython3",
      "version": "3.12.4"
    }
  },
  "nbformat": 4,
  "nbformat_minor": 5
}
