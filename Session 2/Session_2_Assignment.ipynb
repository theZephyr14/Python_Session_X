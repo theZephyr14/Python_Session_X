{
 "cells": [
  {
   "cell_type": "code",
   "execution_count": null,
   "metadata": {},
   "outputs": [],
   "source": [
    "python your_script.py"
   ]
  },
  {
   "cell_type": "code",
   "execution_count": 1,
   "metadata": {},
   "outputs": [
    {
     "name": "stdout",
     "output_type": "stream",
     "text": [
      "1\n",
      "2\n",
      "Fizz\n",
      "4\n",
      "Buzz\n",
      "Fizz\n",
      "7\n",
      "8\n",
      "Fizz\n",
      "Buzz\n",
      "11\n",
      "Fizz\n",
      "13\n",
      "14\n",
      "FizzBuzzed\n",
      "16\n",
      "17\n",
      "Fizz\n",
      "19\n",
      "Buzz\n"
     ]
    }
   ],
   "source": [
    "#defining the function using an if else loop does this work\n",
    "def FizzBuzz(n):\n",
    "        \n",
    "        if n % 3 == 0 and n % 5 == 0:\n",
    "            print(\"FizzBuzzed\")\n",
    "        elif n % 3 == 0:\n",
    "            print(\"Fizz\")\n",
    "        elif n % 5 == 0:\n",
    "            print(\"Buzz\")\n",
    "        else:\n",
    "            print(n)\n",
    "\n",
    "#looping through numbers to assign respective word values\n",
    "num_list = list(range(1,21))\n",
    "for n in num_list:\n",
    "    FizzBuzz(n)\n"
   ]
  },
  {
   "cell_type": "code",
   "execution_count": 2,
   "metadata": {},
   "outputs": [
    {
     "name": "stdout",
     "output_type": "stream",
     "text": [
      "[3, 56, 26]\n"
     ]
    }
   ],
   "source": [
    "#Defining a mixed list of values\n",
    "mix_list = [3, 4.7, 56, \"John\", 6.1, \"some\", 26, 44.8]\n",
    "#Identifying which values are integers\n",
    "int_list = [item for item in mix_list if type(item) == int]\n",
    "#Printing those integers\n",
    "print(int_list)"
   ]
  },
  {
   "cell_type": "code",
   "execution_count": 3,
   "metadata": {},
   "outputs": [
    {
     "name": "stdout",
     "output_type": "stream",
     "text": [
      "['smile', 'water', 'shop']\n"
     ]
    }
   ],
   "source": [
    "#defining variable to be a list\n",
    "todo_list = []\n",
    "\n",
    "#Defining a function that adds values to the list\n",
    "def add_task(task):\n",
    "    todo_list.append(task)\n",
    "\n",
    "#Printing the values in list\n",
    "mylist2 = []\n",
    "def show_tasks():\n",
    "    \n",
    "        \n",
    "        for i in todo_list:\n",
    "            if type(i) == int:\n",
    "             todo_list.append(i)\n",
    "\n",
    "#Adding the tasks using the function\n",
    "add_task(\"smile\")\n",
    "add_task(\"water\")\n",
    "add_task(\"shop\")\n",
    "print (todo_list)\n",
    "\n",
    "  "
   ]
  },
  {
   "cell_type": "code",
   "execution_count": 4,
   "metadata": {},
   "outputs": [
    {
     "name": "stdout",
     "output_type": "stream",
     "text": [
      "71.6\n",
      "114.8\n",
      "123.8\n",
      "168.8\n"
     ]
    }
   ],
   "source": [
    "#Defining the converter functino\n",
    "def celsius_to_faren(celsius):\n",
    "    print((celsius*9/5)+32)\n",
    "\n",
    "#Using the function to convert certain values\n",
    "celsius_to_faren(22)\n",
    "celsius_to_faren(46)\n",
    "celsius_to_faren(51)\n",
    "celsius_to_faren(76)"
   ]
  },
  {
   "cell_type": "code",
   "execution_count": null,
   "metadata": {},
   "outputs": [],
   "source": []
  }
 ],
 "metadata": {
  "kernelspec": {
   "display_name": "Python 3",
   "language": "python",
   "name": "python3"
  },
  "language_info": {
   "codemirror_mode": {
    "name": "ipython",
    "version": 3
   },
   "file_extension": ".py",
   "mimetype": "text/x-python",
   "name": "python",
   "nbconvert_exporter": "python",
   "pygments_lexer": "ipython3",
   "version": "3.11.10"
  }
 },
 "nbformat": 4,
 "nbformat_minor": 2
}
